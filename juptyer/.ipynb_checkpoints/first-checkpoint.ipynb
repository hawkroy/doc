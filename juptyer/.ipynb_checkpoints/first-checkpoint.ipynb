{
 "cells": [
  {
   "cell_type": "code",
   "execution_count": 1,
   "metadata": {},
   "outputs": [
    {
     "name": "stdout",
     "output_type": "stream",
     "text": [
      "['', '/home/hawkwang/opt/pyton-dev/bigdata/lib/python2.7', '/home/hawkwang/opt/pyton-dev/bigdata/lib/python2.7/plat-x86_64-linux-gnu', '/home/hawkwang/opt/pyton-dev/bigdata/lib/python2.7/lib-tk', '/home/hawkwang/opt/pyton-dev/bigdata/lib/python2.7/lib-old', '/home/hawkwang/opt/pyton-dev/bigdata/lib/python2.7/lib-dynload', '/usr/lib/python2.7', '/usr/lib/python2.7/plat-x86_64-linux-gnu', '/usr/lib/python2.7/lib-tk', '/home/hawkwang/opt/pyton-dev/bigdata/local/lib/python2.7/site-packages', '/home/hawkwang/opt/pyton-dev/bigdata/lib/python2.7/site-packages', '/home/hawkwang/opt/pyton-dev/bigdata/local/lib/python2.7/site-packages/IPython/extensions', '/home/hawkwang/.ipython']\n"
     ]
    }
   ],
   "source": [
    "import os\n",
    "import sys\n",
    "print sys.path"
   ]
  },
  {
   "cell_type": "code",
   "execution_count": null,
   "metadata": {
    "collapsed": true
   },
   "outputs": [],
   "source": []
  }
 ],
 "metadata": {
  "kernelspec": {
   "display_name": "Python 2",
   "language": "python",
   "name": "python2"
  },
  "language_info": {
   "codemirror_mode": {
    "name": "ipython",
    "version": 2
   },
   "file_extension": ".py",
   "mimetype": "text/x-python",
   "name": "python",
   "nbconvert_exporter": "python",
   "pygments_lexer": "ipython2",
   "version": "2.7.13"
  }
 },
 "nbformat": 4,
 "nbformat_minor": 2
}
