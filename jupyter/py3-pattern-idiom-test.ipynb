{
 "cells": [
  {
   "cell_type": "markdown",
   "metadata": {},
   "source": [
    "# Python的Decorator语法\n",
    "概念上来说，python的decorator类似于其他语言中的宏语言系统(如C++中的template的#define)，而不是BoF中描述的decorator范式\n",
    "Python中的Decorator语法分为Decorator带有参数和没有参数两种形式；decorator可以使用class和func进行定义。decorator的语法\"@\"实际上可以认为是一种“语法糖”，对于：\n",
    "1. 没有参数的decorator\n",
    "```python\n",
    "    @decorator_no_param\n",
    "    def func(params):\n",
    "        pass\n",
    "```\n",
    "转化为\n",
    "```python\n",
    "    func = decorator_no_param(func)\n",
    "```\n",
    "所以对于func来说，\n",
    "```python\n",
    "    def decorator_no_param(func):\n",
    "        # wrapper defined\n",
    "        return wrapper_func\n",
    "```\n",
    "对于class来说，\n",
    "```python\n",
    "    class decorator_no_param(object):\n",
    "        def __init__(self, func):\n",
    "            # compose the func param\n",
    "            pass\n",
    "        # invoke when func(params) => class.__call__(params)\n",
    "        def __call__(self, *args):\n",
    "            # call decorator's func\n",
    "```\n",
    "2. 有参数的decorator\n",
    "```python\n",
    "    @decorator_param(decorator_param)\n",
    "    def func(params):\n",
    "        pass\n",
    "```\n",
    "转化为\n",
    "```python\n",
    "    func = decorator_param(decorator_param)(func)\n",
    "```\n",
    "所以对于func来说\n",
    "```python\n",
    "    def decorator_param(decorator_param):\n",
    "        def helper(func):\n",
    "            # wrapper defined\n",
    "            return wrapper_func\n",
    "        return helper\n",
    "```\n",
    "对于class来说\n",
    "```python\n",
    "    class decorator_param(object):\n",
    "        def __init__(self, decorator_param):\n",
    "            pass\n",
    "        \n",
    "        # called when define decorator, not when decorator func invoke\n",
    "        def __call__(self, func):\n",
    "            # wrapper defined, wrapper_func will invoke when func()\n",
    "            return wrapper_func\n",
    "```\n",
    "library中的functool中大量运用decorator的语法"
   ]
  },
  {
   "cell_type": "code",
   "execution_count": 31,
   "metadata": {},
   "outputs": [
    {
     "name": "stdout",
     "output_type": "stream",
     "text": [
      "in decorator __init__()\n",
      "finish\n",
      "in decorator __call__()\n",
      "in test func ('decorator-param',)\n"
     ]
    }
   ],
   "source": [
    "class decorator(object):\n",
    "    def __init__(self, extra_param):\n",
    "        print \"in decorator __init__()\"\n",
    "        self.param = extra_param\n",
    "    def __call__(self, func):\n",
    "        def wrapper_f(*args):\n",
    "            print \"in decorator __call__()\"\n",
    "            pass_param = [self.param]\n",
    "            pass_param.extend(list(args))\n",
    "            func(*tuple(pass_param))\n",
    "        return wrapper_f\n",
    "\n",
    "@decorator(\"decorator-param\")\n",
    "def test(*args):\n",
    "    print \"in test func\", args\n",
    "\n",
    "print \"finish\"\n",
    "\n",
    "test()"
   ]
  },
  {
   "cell_type": "markdown",
   "metadata": {},
   "source": [
    "# MetaProgramming\n"
   ]
  }
 ],
 "metadata": {
  "kernelspec": {
   "display_name": "Python 3",
   "language": "python",
   "name": "python3"
  },
  "language_info": {
   "codemirror_mode": {
    "name": "ipython",
    "version": 3
   },
   "file_extension": ".py",
   "mimetype": "text/x-python",
   "name": "python",
   "nbconvert_exporter": "python",
   "pygments_lexer": "ipython3",
   "version": "3.9.1"
  }
 },
 "nbformat": 4,
 "nbformat_minor": 1
}
